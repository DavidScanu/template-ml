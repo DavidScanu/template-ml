{
 "cells": [
  {
   "cell_type": "markdown",
   "metadata": {},
   "source": [
    "# Titre du notebook\n",
    "\n",
    "*David Scanu*\n",
    "\n",
    "---\n",
    "## Sommaire : \n",
    "- Objectif\n",
    "- Description des colonnes\n",
    "- Importer les bibliothèques\n",
    "- Importer les données\n",
    "- Analyse statistique de base\n",
    "- Visualisation\n",
    "- Préparation des données\n",
    "  - Nettoyage\n",
    "  - Outliers\n",
    "  - Equilibre\n",
    "- Séparation des données\n",
    "- Feature selection\n",
    "- Mise à l'échelle\n",
    "- Machine learning\n",
    "- Export du modèle\n",
    "\n",
    "---"
   ]
  },
  {
   "cell_type": "markdown",
   "metadata": {},
   "source": [
    "## Notre objectif"
   ]
  },
  {
   "cell_type": "markdown",
   "metadata": {},
   "source": [
    "Décrire notre objectif : classer, prédire, ..."
   ]
  },
  {
   "cell_type": "markdown",
   "metadata": {},
   "source": [
    "## Description des caractères / colonnes : "
   ]
  },
  {
   "cell_type": "markdown",
   "metadata": {},
   "source": [
    "- Caractère 1\n",
    "- Caractère 2\n",
    "- ..."
   ]
  },
  {
   "cell_type": "markdown",
   "metadata": {},
   "source": [
    "## Importer les bibliothèques"
   ]
  },
  {
   "cell_type": "code",
   "execution_count": null,
   "metadata": {},
   "outputs": [],
   "source": [
    "import pandas as pd\n",
    "import seaborn as sns\n",
    "import matplotlib.pyplot as plt\n",
    "import numpy as np"
   ]
  },
  {
   "cell_type": "markdown",
   "metadata": {},
   "source": [
    "## Importer les données"
   ]
  },
  {
   "cell_type": "code",
   "execution_count": null,
   "metadata": {},
   "outputs": [],
   "source": [
    "# Importe les données\n",
    "data = pd.read_csv() # Dataframe"
   ]
  },
  {
   "cell_type": "code",
   "execution_count": null,
   "metadata": {},
   "outputs": [],
   "source": [
    "# Montre les premières lignes du jeu de données\n",
    "data.head()"
   ]
  },
  {
   "cell_type": "markdown",
   "metadata": {},
   "source": [
    "## Analyse statistique de base"
   ]
  },
  {
   "cell_type": "markdown",
   "metadata": {},
   "source": [
    "### Moyennes et médianes"
   ]
  },
  {
   "cell_type": "code",
   "execution_count": null,
   "metadata": {},
   "outputs": [],
   "source": [
    "# data.groupby().agg(['mean', 'median'])"
   ]
  },
  {
   "cell_type": "markdown",
   "metadata": {},
   "source": [
    "### Ecart-type par espèces"
   ]
  },
  {
   "cell_type": "code",
   "execution_count": null,
   "metadata": {},
   "outputs": [],
   "source": [
    "data.groupby().std()"
   ]
  },
  {
   "cell_type": "markdown",
   "metadata": {},
   "source": [
    "## Visualisation"
   ]
  },
  {
   "cell_type": "markdown",
   "metadata": {},
   "source": [
    "### Distribution"
   ]
  },
  {
   "cell_type": "code",
   "execution_count": null,
   "metadata": {},
   "outputs": [],
   "source": [
    "# Boxplot\n",
    "sns.set(style=\"ticks\") \n",
    "plt.figure(figsize=(12,10))\n",
    "plt.subplot(2,2,1)\n",
    "sns.boxplot(x='',y='',data=data)\n",
    "plt.subplot(2,2,2)\n",
    "sns.boxplot(x='',y='',data=data)\n",
    "plt.subplot(2,2,3)\n",
    "sns.boxplot(x='',y='',data=data)\n",
    "plt.subplot(2,2,4)\n",
    "sns.boxplot(x='',y='',data=data)\n",
    "plt.show()"
   ]
  },
  {
   "cell_type": "code",
   "execution_count": null,
   "metadata": {},
   "outputs": [],
   "source": [
    "# Violin Plot\n",
    "# Montre la distribution des données sur plusieurs niveaux\n",
    "# d'une (ou plusieurs) variables catégorielles de sorte que\n",
    "# ces distributions puissent être comparées.\n",
    "\n",
    "sns.set(style=\"whitegrid\")\n",
    "plt.figure(figsize=(12,10))\n",
    "plt.subplot(2,2,1)\n",
    "sns.violinplot(x='', y='',data=data)\n",
    "plt.subplot(2,2,2)\n",
    "sns.violinplot(x='',y='',data=data)\n",
    "plt.subplot(2,2,3)\n",
    "sns.violinplot(x='',y='',data=data)\n",
    "plt.subplot(2,2,4)\n",
    "sns.violinplot(x='',y='',data=data)\n",
    "plt.show()"
   ]
  },
  {
   "cell_type": "markdown",
   "metadata": {},
   "source": [
    "### Pairplot\n",
    "\n",
    "Premier reflexe, tracer un pairplot pour mettre en évidence répartitions et corrélations."
   ]
  },
  {
   "cell_type": "code",
   "execution_count": null,
   "metadata": {},
   "outputs": [],
   "source": [
    "sns.pairplot(data=data, hue=\"target\", height=3)"
   ]
  },
  {
   "cell_type": "markdown",
   "metadata": {},
   "source": [
    "### Analyse univariée"
   ]
  },
  {
   "cell_type": "code",
   "execution_count": null,
   "metadata": {},
   "outputs": [],
   "source": []
  },
  {
   "cell_type": "markdown",
   "metadata": {},
   "source": [
    "### Analyse Bivariée"
   ]
  },
  {
   "cell_type": "markdown",
   "metadata": {},
   "source": [
    "#### Tableau de correlations"
   ]
  },
  {
   "cell_type": "code",
   "execution_count": null,
   "metadata": {},
   "outputs": [],
   "source": [
    "# Affiche les correlations\n",
    "data.corr()"
   ]
  },
  {
   "cell_type": "markdown",
   "metadata": {},
   "source": [
    "#### Heatmap"
   ]
  },
  {
   "cell_type": "code",
   "execution_count": null,
   "metadata": {},
   "outputs": [],
   "source": [
    "# Visualise les correlations\n",
    "sns.heatmap(data.corr(), annot=True, cmap='RdBu')"
   ]
  },
  {
   "cell_type": "markdown",
   "metadata": {},
   "source": [
    "#### Scatter Plot"
   ]
  },
  {
   "cell_type": "code",
   "execution_count": null,
   "metadata": {},
   "outputs": [],
   "source": [
    "# Visualise l'impact de deux variables sur la cible\n",
    "sns.scatterplot(data=data, x='', y='', hue='target')\n",
    "plt.title('Titre')\n",
    "plt.show()"
   ]
  },
  {
   "cell_type": "markdown",
   "metadata": {},
   "source": [
    "## Préparations des données"
   ]
  },
  {
   "cell_type": "markdown",
   "metadata": {},
   "source": [
    "### Nettoyage\n",
    "\n",
    "Vérifier les valeurs manquantes dans le jeu de données."
   ]
  },
  {
   "cell_type": "code",
   "execution_count": null,
   "metadata": {},
   "outputs": [],
   "source": [
    "print(data.isnull().values.any())"
   ]
  },
  {
   "cell_type": "code",
   "execution_count": null,
   "metadata": {},
   "outputs": [],
   "source": [
    "print(data.isnull().sum())"
   ]
  },
  {
   "cell_type": "markdown",
   "metadata": {},
   "source": [
    "*Stratégie 1* : Suppression des lignes contenant des valeurs manquantes."
   ]
  },
  {
   "cell_type": "code",
   "execution_count": null,
   "metadata": {},
   "outputs": [],
   "source": [
    "data_no_nan = data.dropna()"
   ]
  },
  {
   "cell_type": "markdown",
   "metadata": {},
   "source": [
    "*Stratégie 2* : Remplacer les valeurs manquantes par : \n",
    "- Moyenne\n",
    "- Médiane\n",
    "- Mode\n",
    "- Valeur arbitraire\n",
    "- ...\n",
    "\n",
    "*Selon la stratégie*"
   ]
  },
  {
   "cell_type": "code",
   "execution_count": null,
   "metadata": {},
   "outputs": [],
   "source": [
    "# SimpleImputer\n",
    "from sklearn.impute import SimpleImputer\n",
    "\n",
    "imputer = SimpleImputer(strategy='most_frequent', missing_values=np.nan)\n",
    "imputer = imputer.fit(data)\n",
    "\n",
    "# imputer.transform retourne un ndarray, donc besoin de recréer un DataFrame\n",
    "data_no_nan_mode = pd.DataFrame(imputer.transform(df_nan.loc[:,:]), columns = data.columns)\n",
    "data_no_nan_mode.head()"
   ]
  },
  {
   "cell_type": "markdown",
   "metadata": {},
   "source": [
    "### Outliers\n",
    "\n",
    "- Visualiser les outliers avec boxplot()\n",
    "- Enlever les outliers"
   ]
  },
  {
   "cell_type": "code",
   "execution_count": null,
   "metadata": {},
   "outputs": [],
   "source": []
  },
  {
   "cell_type": "markdown",
   "metadata": {},
   "source": [
    "### Equilibre\n",
    "\n",
    "Vérifier que les cibles du jeu de données sont **bien équilibrées**."
   ]
  },
  {
   "cell_type": "code",
   "execution_count": null,
   "metadata": {},
   "outputs": [],
   "source": [
    "data['target'].value_counts()"
   ]
  },
  {
   "cell_type": "markdown",
   "metadata": {},
   "source": [
    "### Encoder les données\n",
    "\n",
    "Encoder les valeurs qui sont des catégories, en valeurs numériques :"
   ]
  },
  {
   "cell_type": "code",
   "execution_count": null,
   "metadata": {},
   "outputs": [],
   "source": [
    "from sklearn.preprocessing import LabelEncoder\n",
    "\n",
    "labelencoder = LabelEncoder()\n",
    "data['target'] = labelencoder.fit_transform(data['target'])\n",
    "\n",
    "print(data['target'])\n",
    "print(labelencoder.classes_)"
   ]
  },
  {
   "cell_type": "markdown",
   "metadata": {},
   "source": [
    "## Séparation des données"
   ]
  },
  {
   "cell_type": "markdown",
   "metadata": {},
   "source": [
    "Séparer le jeu de données :\n",
    "- X : les variables\n",
    "- y : la cible"
   ]
  },
  {
   "cell_type": "code",
   "execution_count": null,
   "metadata": {},
   "outputs": [],
   "source": [
    "# Fonctionne avec DataFrame ou ndarray\n",
    "\n",
    "# Variables\n",
    "X = # Enlever la colonne 'target' du DataFrame\n",
    "\n",
    "# Cible\n",
    "y = data['target'] # Garder uniquement la colonne cible\n",
    "\n"
   ]
  },
  {
   "cell_type": "markdown",
   "metadata": {},
   "source": [
    "Séparer le jeu de données en données d'entrainement et de test :\n",
    "- X_train : données d'entrainement\n",
    "- X_test : données de test\n",
    "- y_train : cible d'entrainement\n",
    "- y_test : cible de test"
   ]
  },
  {
   "cell_type": "code",
   "execution_count": null,
   "metadata": {},
   "outputs": [],
   "source": [
    "from sklearn.model_selection import train_test_split\n",
    "\n",
    "# Split les données, retourne DataFrame ou ndarray\n",
    "X_train, X_test, y_train, y_test = train_test_split(X, y, test_size=0.2, random_state=3)\n",
    "\n",
    "print(f\"Nombre d'exemples d'entrainement X : {X_train.shape[0]}\")\n",
    "print(f\"Nombre d'exemples de test X : {X_test.shape[0]}\")\n",
    "print(' ')\n",
    "print(f\"Nombre d'exemples d'entrainement Y : {y_train.shape[0]}\")\n",
    "print(f\"Nombre d'exemples de test Y : {y_test.shape[0]}\")"
   ]
  },
  {
   "cell_type": "markdown",
   "metadata": {},
   "source": [
    "## Feature Selection"
   ]
  },
  {
   "cell_type": "markdown",
   "metadata": {},
   "source": [
    "#### VarianceThreshold\n",
    "\n",
    "Elimine les variables dont la **variance est inférieur à un certain seuil**."
   ]
  },
  {
   "cell_type": "code",
   "execution_count": null,
   "metadata": {},
   "outputs": [],
   "source": [
    "# Variance des variables\n",
    "X_train.var(axis=0)"
   ]
  },
  {
   "cell_type": "code",
   "execution_count": null,
   "metadata": {},
   "outputs": [],
   "source": [
    "from sklearn.feature_selection import VarianceThreshold\n",
    "\n",
    "selector_vt = VarianceThreshold(threshold=0.2)\n",
    "selector_vt.fit(X_train)\n",
    "# Affiche un masque\n",
    "selector_vt.get_support()\n"
   ]
  },
  {
   "cell_type": "code",
   "execution_count": null,
   "metadata": {},
   "outputs": [],
   "source": [
    "# Affiche les colonnes restantes\n",
    "np.array(X_train.columns)[selector_vt.get_support()]"
   ]
  },
  {
   "cell_type": "code",
   "execution_count": null,
   "metadata": {},
   "outputs": [],
   "source": [
    "X_train_vt = selector_vt.transform(X_train)\n",
    "X_test_vt = selector_vt.transform(X_test)\n",
    "X_train_vt[:10] # Affiche les 10 premières lignes de notre ndarray"
   ]
  },
  {
   "cell_type": "markdown",
   "metadata": {},
   "source": [
    "#### SelectKbest"
   ]
  },
  {
   "cell_type": "code",
   "execution_count": null,
   "metadata": {},
   "outputs": [],
   "source": [
    "from sklearn.feature_selection import SelectKBest, chi2\n",
    "\n",
    "# Retourne 2 tableaux :\n",
    "# - score test chi2, dépendance à y\n",
    "# - P values\n",
    "chi2(X, y)"
   ]
  },
  {
   "cell_type": "code",
   "execution_count": null,
   "metadata": {},
   "outputs": [],
   "source": [
    "selector_kb = SelectKBest(chi2, k=2)\n",
    "selector_kb.fit(X_train, y)\n",
    "selector_kb.get_support() # Retourne une seule variable/colonne"
   ]
  },
  {
   "cell_type": "code",
   "execution_count": null,
   "metadata": {},
   "outputs": [],
   "source": [
    "# Affiche les colonnes restantes\n",
    "np.array(X_train.columns)[selector_kb.get_support()]"
   ]
  },
  {
   "cell_type": "code",
   "execution_count": null,
   "metadata": {},
   "outputs": [],
   "source": [
    "X_train_kb = selector_kb.transform(X_train)\n",
    "X_test_kb = selector_kb.transform(X_test)\n",
    "X_train_kb[:10] # Affiche les 10 première ligne de notre ndarray"
   ]
  },
  {
   "cell_type": "markdown",
   "metadata": {},
   "source": [
    "#### SelectFromModel\n",
    "\n",
    "Entraine un estimateur puis selectionne les **variables** les plus importantes pour cet estimateur. Compatible avec les estimateurs qui développent une fonction paramétrée *(Ne fonctionne pas avec Knn)*."
   ]
  },
  {
   "cell_type": "code",
   "execution_count": null,
   "metadata": {},
   "outputs": [],
   "source": [
    "from sklearn.feature_selection import SelectFromModel\n",
    "from sklearn.linear_model import SGDClassifier\n",
    "\n",
    "selector_sfm = SelectFromModel(SGDClassifier(random_state=0), threshold='mean')\n",
    "selector_sfm.fit(X_train, y_train)\n",
    "selector_sfm.get_support()"
   ]
  },
  {
   "cell_type": "code",
   "execution_count": null,
   "metadata": {},
   "outputs": [],
   "source": [
    "# Affiche les colonnes restantes\n",
    "np.array(X_train.columns)[selector_sfm.get_support()]"
   ]
  },
  {
   "cell_type": "code",
   "execution_count": null,
   "metadata": {},
   "outputs": [],
   "source": [
    "X_train_sfm = selector_sfm.transform(X_train)\n",
    "X_test_sfm = selector_sfm.transform(X_test)\n",
    "X_train_sfm[:10]"
   ]
  },
  {
   "cell_type": "code",
   "execution_count": null,
   "metadata": {},
   "outputs": [],
   "source": [
    "# Matrice coefficient de 3 x 4\n",
    "selector_sfm.estimator_.coef_"
   ]
  },
  {
   "cell_type": "code",
   "execution_count": null,
   "metadata": {},
   "outputs": [],
   "source": [
    "# Le selecteur selectionne les variables > à ce chiffre\n",
    "selector_sfm.estimator_.coef_.mean(axis=0).mean()"
   ]
  },
  {
   "cell_type": "markdown",
   "metadata": {},
   "source": [
    "#### RFE + RFECV\n",
    "\n",
    "Eliminent les variables les moins importantes de façon **récursive**.\n",
    "\n",
    "Un estimateur est entrainé plusieurs fois, après chaque entrainement, des features sont éliminées sur la base de **coefficients** les plus faibles de l'estimateur.\n",
    "\n"
   ]
  },
  {
   "cell_type": "code",
   "execution_count": null,
   "metadata": {},
   "outputs": [],
   "source": [
    "from sklearn.feature_selection import RFE, RFECV\n",
    "\n",
    "selector_RFECV = RFECV(SGDClassifier(random_state=0), step=1, min_features_to_select=2, cv=5)\n",
    "selector_RFECV.fit(X_train, y_train)\n",
    "selector_RFECV.ranking_\n"
   ]
  },
  {
   "cell_type": "code",
   "execution_count": null,
   "metadata": {},
   "outputs": [],
   "source": [
    "selector_RFECV.cv_results_"
   ]
  },
  {
   "cell_type": "code",
   "execution_count": null,
   "metadata": {},
   "outputs": [],
   "source": [
    "selector_RFECV.get_support()"
   ]
  },
  {
   "cell_type": "code",
   "execution_count": null,
   "metadata": {},
   "outputs": [],
   "source": [
    "# Affiche les colonnes restantes\n",
    "np.array(X_train.columns)[selector_RFECV.get_support()]"
   ]
  },
  {
   "cell_type": "code",
   "execution_count": null,
   "metadata": {},
   "outputs": [],
   "source": [
    "X_train_RFECV = selector_RFECV.transform(X_train)\n",
    "X_test_RFECV = selector_RFECV.transform(X_test)\n",
    "X_train_RFECV[:10]"
   ]
  },
  {
   "cell_type": "markdown",
   "metadata": {},
   "source": [
    "## Mise à l'échelle"
   ]
  },
  {
   "cell_type": "code",
   "execution_count": null,
   "metadata": {},
   "outputs": [],
   "source": [
    "from sklearn.preprocessing import StandardScaler\n",
    "\n",
    "scaler = StandardScaler()\n",
    "X_train_scaled = scaler.fit_transform(X_train_kb)\n",
    "X_test_scaled = scaler.transform(X_test_kb)"
   ]
  },
  {
   "cell_type": "code",
   "execution_count": null,
   "metadata": {},
   "outputs": [],
   "source": [
    "from sklearn.preprocessing import MinMaxScaler\n",
    "\n",
    "min_max_scaler = MinMaxScaler()\n",
    "X_train_minmaxscaler = min_max_scaler.fit_transform(X_train_kb)\n",
    "X_test_minmaxscaler = min_max_scaler.transform(X_test_kb)"
   ]
  },
  {
   "cell_type": "code",
   "execution_count": null,
   "metadata": {},
   "outputs": [],
   "source": [
    "from sklearn.preprocessing import RobustScaler\n",
    "\n",
    "robust_scaler = RobustScaler()\n",
    "X_train_robscaler = robust_scaler.fit_transform(X_train_kb)\n",
    "X_test_robscaler = robust_scaler.transform(X_test_kb)"
   ]
  },
  {
   "cell_type": "markdown",
   "metadata": {},
   "source": [
    "## Machine Learning"
   ]
  },
  {
   "cell_type": "markdown",
   "metadata": {},
   "source": [
    "### Modèle KNN"
   ]
  },
  {
   "cell_type": "code",
   "execution_count": null,
   "metadata": {},
   "outputs": [],
   "source": [
    "from sklearn.neighbors import KNeighborsClassifier\n",
    "# Nous entrainons notre modèle avec les données d'entrainements (standardisées)\n",
    "model = KNeighborsClassifier(n_neighbors=1)\n",
    "model.fit(X_train_scaled, y_train)\n",
    "print('Train Score : ', model.score(X_train_scaled, y_train))\n",
    "print('Test Score : ', model.score(X_test_scaled, y_test))"
   ]
  },
  {
   "cell_type": "markdown",
   "metadata": {},
   "source": [
    "### Cross-validation"
   ]
  },
  {
   "cell_type": "code",
   "execution_count": null,
   "metadata": {},
   "outputs": [],
   "source": [
    "from sklearn.model_selection import cross_val_score\n",
    "from sklearn.model_selection import LeaveOneOut, StratifiedShuffleSplit\n",
    "\n",
    "# Choix de la méthode de validation croisée (échantillonage)\n",
    "cv = StratifiedShuffleSplit(n_splits=5, test_size=0.5, random_state=0)\n",
    "# cv = LeaveOneOut()\n",
    "\n",
    "cross_val_res = cross_val_score(model, X_train_scaled, y_train, cv=cv, scoring='accuracy')\n",
    "print(cross_val_res)"
   ]
  },
  {
   "cell_type": "code",
   "execution_count": null,
   "metadata": {},
   "outputs": [],
   "source": [
    "cross_val_res.mean()"
   ]
  },
  {
   "cell_type": "code",
   "execution_count": null,
   "metadata": {},
   "outputs": [],
   "source": [
    "# Cross-validation for each k value\n",
    "val_score = []\n",
    "for k in range(1, 50):\n",
    "    score = cross_val_score(KNeighborsClassifier(n_neighbors=k), X_train_scaled, y_train, cv=5).mean()\n",
    "    val_score.append(score)\n",
    "plt.plot(val_score)"
   ]
  },
  {
   "cell_type": "markdown",
   "metadata": {},
   "source": [
    "### Validation Curve"
   ]
  },
  {
   "cell_type": "code",
   "execution_count": null,
   "metadata": {},
   "outputs": [],
   "source": [
    "from sklearn.model_selection import validation_curve\n",
    "\n",
    "k = np.arange(1, 50)\n",
    "train_score, val_score = validation_curve(KNeighborsClassifier(), X_train_scaled, y_train, param_name='n_neighbors', param_range=k, cv=5)\n",
    "\n",
    "plt.plot(k, val_score.mean(axis=1), label=\"Validation\")\n",
    "plt.plot(k, train_score.mean(axis=1), label=\"Train\")\n",
    "plt.ylabel('score')\n",
    "plt.xlabel('n_neighbors')\n",
    "plt.legend()\n",
    "plt.show()"
   ]
  },
  {
   "cell_type": "markdown",
   "metadata": {},
   "source": [
    "### Grid Search CV"
   ]
  },
  {
   "cell_type": "code",
   "execution_count": null,
   "metadata": {},
   "outputs": [],
   "source": [
    "from sklearn.model_selection import GridSearchCV\n",
    "\n",
    "param_grid = {'n_neighbors' : np.arange(1, 20), 'metric' : ['euclidean', 'manhattan']}\n",
    "\n",
    "grid = GridSearchCV(KNeighborsClassifier(), param_grid, cv=5)\n",
    "grid.fit(X_train_scaled, y_train)"
   ]
  },
  {
   "cell_type": "markdown",
   "metadata": {},
   "source": [
    "Afficher le meilleur score"
   ]
  },
  {
   "cell_type": "code",
   "execution_count": null,
   "metadata": {},
   "outputs": [],
   "source": [
    "grid.best_score_"
   ]
  },
  {
   "cell_type": "markdown",
   "metadata": {},
   "source": [
    "Afficher les paramètres donnant les meilleures performances"
   ]
  },
  {
   "cell_type": "code",
   "execution_count": null,
   "metadata": {},
   "outputs": [],
   "source": [
    "grid.best_params_"
   ]
  },
  {
   "cell_type": "markdown",
   "metadata": {},
   "source": [
    "Sauvegarder le meilleur modèle"
   ]
  },
  {
   "cell_type": "code",
   "execution_count": null,
   "metadata": {},
   "outputs": [],
   "source": [
    "# Best model\n",
    "model_best = grid.best_estimator_"
   ]
  },
  {
   "cell_type": "markdown",
   "metadata": {},
   "source": [
    "Tester le nouveau modèle sur les données de test"
   ]
  },
  {
   "cell_type": "code",
   "execution_count": null,
   "metadata": {},
   "outputs": [],
   "source": [
    "# Score du meilleur modèle\n",
    "model_best.score(X_test_scaled, y_test)"
   ]
  },
  {
   "cell_type": "markdown",
   "metadata": {},
   "source": [
    "### Matrice de confusion"
   ]
  },
  {
   "cell_type": "code",
   "execution_count": null,
   "metadata": {},
   "outputs": [],
   "source": [
    "from sklearn.metrics import confusion_matrix\n",
    "\n",
    "y_pred = model_best.predict(X_test_scaled)\n",
    "confusion_matrix = confusion_matrix(y_test, y_pred)\n"
   ]
  },
  {
   "cell_type": "code",
   "execution_count": null,
   "metadata": {},
   "outputs": [],
   "source": [
    "cm_data = {'prediction': y_pred, 'actual': y_test}\n",
    "cm_df = pd.DataFrame(cm_data)\n",
    "contingency_matrix = pd.crosstab(cm_df['prediction'], cm_df['actual'])\n",
    "print(contingency_matrix)"
   ]
  },
  {
   "cell_type": "code",
   "execution_count": null,
   "metadata": {},
   "outputs": [],
   "source": [
    "sns.heatmap(contingency_matrix.T, annot=True, fmt='.2f', cmap=\"YlGnBu\", cbar=False)\n",
    "plt.title('Matrice de confusion')\n",
    "plt.show()"
   ]
  },
  {
   "cell_type": "markdown",
   "metadata": {},
   "source": [
    "#### Learning Curve"
   ]
  },
  {
   "cell_type": "code",
   "execution_count": null,
   "metadata": {},
   "outputs": [],
   "source": [
    "from sklearn.model_selection import learning_curve\n",
    "\n",
    "N, train_score, val_score = learning_curve(model_best, X_train_scaled, y_train, train_sizes=np.linspace(0.1, 1.0, 10), cv=5)\n",
    "\n",
    "print(N)\n",
    "plt.plot(N, train_score.mean(axis=1), label='train')\n",
    "plt.plot(N, val_score.mean(axis=1), label='validation')\n",
    "plt.xlabel('train_sizes')\n",
    "plt.legend()\n",
    "plt.show()"
   ]
  },
  {
   "cell_type": "markdown",
   "metadata": {},
   "source": [
    "## Export du modèle"
   ]
  },
  {
   "cell_type": "markdown",
   "metadata": {},
   "source": [
    "Exporter le modèle avec joblib ou Pickle. Il faut exporter :\n",
    "- Le modèle\n",
    "- Le scaler\n",
    "- le nom des colonnes X\n",
    "- les valeurs possibles de la 'target' (si catégorie)"
   ]
  },
  {
   "cell_type": "code",
   "execution_count": null,
   "metadata": {},
   "outputs": [],
   "source": [
    "import pickle\n",
    "\n",
    "dict_export = {}\n",
    "dict_export['model'] = model_best\n",
    "dict_export['scaler'] = scaler\n",
    "dict_export['X_col_names'] = X_col_names\n",
    "dict_export['y_names'] = data.target_names\n",
    "\n",
    "pickle_out = open(\"model.pkl\",\"wb\")\n",
    "pickle.dump(dict_export, pickle_out)\n",
    "pickle_out.close()"
   ]
  }
 ],
 "metadata": {
  "kernelspec": {
   "display_name": "Python 3.10.6 ('venv': venv)",
   "language": "python",
   "name": "python3"
  },
  "language_info": {
   "codemirror_mode": {
    "name": "ipython",
    "version": 3
   },
   "file_extension": ".py",
   "mimetype": "text/x-python",
   "name": "python",
   "nbconvert_exporter": "python",
   "pygments_lexer": "ipython3",
   "version": "3.10.6"
  },
  "orig_nbformat": 4,
  "vscode": {
   "interpreter": {
    "hash": "5a537cdb13d7aeb39d11da608c8476043be259ee4aa207ebadd48cee87be9109"
   }
  }
 },
 "nbformat": 4,
 "nbformat_minor": 2
}
